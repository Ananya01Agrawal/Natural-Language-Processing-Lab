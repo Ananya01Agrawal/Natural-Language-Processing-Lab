{
  "nbformat": 4,
  "nbformat_minor": 0,
  "metadata": {
    "colab": {
      "provenance": []
    },
    "kernelspec": {
      "name": "python3",
      "display_name": "Python 3"
    },
    "language_info": {
      "name": "python"
    }
  },
  "cells": [
    {
      "cell_type": "code",
      "execution_count": 1,
      "metadata": {
        "id": "zwQh3X9gKqle"
      },
      "outputs": [],
      "source": [
        "import nltk\n",
        "from nltk.corpus import stopwords\n",
        "from nltk.tokenize import word_tokenize\n",
        "from nltk.stem import WordNetLemmatizer\n",
        "from sklearn.feature_extraction.text import TfidfVectorizer\n",
        "from sklearn.metrics.pairwise import cosine_similarity"
      ]
    },
    {
      "cell_type": "code",
      "source": [
        "# Download NLTK resources\n",
        "nltk.download('punkt')\n",
        "nltk.download('stopwords')\n",
        "nltk.download('wordnet')"
      ],
      "metadata": {
        "colab": {
          "base_uri": "https://localhost:8080/"
        },
        "id": "xqWnSORpKyQh",
        "outputId": "78eaa82c-708a-4f2e-d6f5-3d9377948f71"
      },
      "execution_count": 2,
      "outputs": [
        {
          "output_type": "stream",
          "name": "stderr",
          "text": [
            "[nltk_data] Downloading package punkt to /root/nltk_data...\n",
            "[nltk_data]   Unzipping tokenizers/punkt.zip.\n",
            "[nltk_data] Downloading package stopwords to /root/nltk_data...\n",
            "[nltk_data]   Unzipping corpora/stopwords.zip.\n",
            "[nltk_data] Downloading package wordnet to /root/nltk_data...\n"
          ]
        },
        {
          "output_type": "execute_result",
          "data": {
            "text/plain": [
              "True"
            ]
          },
          "metadata": {},
          "execution_count": 2
        }
      ]
    },
    {
      "cell_type": "code",
      "source": [
        "# Define the three sentences\n",
        "sentences = [\n",
        "    \"I love reading books\",\n",
        "    \"Books are my favorite pastime\",\n",
        "    \"Reading is a great way to relax\"\n",
        "]"
      ],
      "metadata": {
        "id": "1H-QvczLK40H"
      },
      "execution_count": 3,
      "outputs": []
    },
    {
      "cell_type": "code",
      "source": [
        "# Tokenization and preprocessing\n",
        "stop_words = set(stopwords.words('english'))\n",
        "lemmatizer = WordNetLemmatizer()"
      ],
      "metadata": {
        "id": "Ok-kKy2JLD9l"
      },
      "execution_count": 4,
      "outputs": []
    },
    {
      "cell_type": "code",
      "source": [
        "def preprocess(text):\n",
        "    tokens = word_tokenize(text.lower())\n",
        "    tokens = [lemmatizer.lemmatize(token) for token in tokens if token.isalnum()]\n",
        "    tokens = [token for token in tokens if token not in stop_words]\n",
        "    return ' '.join(tokens)"
      ],
      "metadata": {
        "id": "QtdK03dxLLHb"
      },
      "execution_count": 5,
      "outputs": []
    },
    {
      "cell_type": "code",
      "source": [
        "# Preprocess the sentences\n",
        "preprocessed_sentences = [preprocess(sentence) for sentence in sentences]"
      ],
      "metadata": {
        "id": "BrVLJuD_LPVz"
      },
      "execution_count": 6,
      "outputs": []
    },
    {
      "cell_type": "code",
      "source": [
        "# Compute TF-IDF vectors\n",
        "vectorizer = TfidfVectorizer()\n",
        "tfidf_matrix = vectorizer.fit_transform(preprocessed_sentences)"
      ],
      "metadata": {
        "id": "4EM_exVtLZO4"
      },
      "execution_count": 7,
      "outputs": []
    },
    {
      "cell_type": "code",
      "source": [
        "# Calculate cosine similarity\n",
        "cosine_similarities = cosine_similarity(tfidf_matrix, tfidf_matrix)"
      ],
      "metadata": {
        "id": "fCeloV08Ldzt"
      },
      "execution_count": 8,
      "outputs": []
    },
    {
      "cell_type": "code",
      "source": [
        "# Output the similarity matrix\n",
        "print(\"Cosine Similarity Matrix:\")\n",
        "print(cosine_similarities)"
      ],
      "metadata": {
        "colab": {
          "base_uri": "https://localhost:8080/"
        },
        "id": "2iNmxvKdLiFH",
        "outputId": "90800dd0-12fc-4bf4-931c-154eefd56be4"
      },
      "execution_count": 9,
      "outputs": [
        {
          "output_type": "stream",
          "name": "stdout",
          "text": [
            "Cosine Similarity Matrix:\n",
            "[[1.         0.24527199 0.208199  ]\n",
            " [0.24527199 1.         0.        ]\n",
            " [0.208199   0.         1.        ]]\n"
          ]
        }
      ]
    },
    {
      "cell_type": "code",
      "source": [
        "# Ranking based on similarity\n",
        "sorted_indices = (-cosine_similarities).argsort(axis=1)[:, 1:]"
      ],
      "metadata": {
        "id": "BKvWeYZnLmZ2"
      },
      "execution_count": 10,
      "outputs": []
    },
    {
      "cell_type": "code",
      "source": [
        "print(\"\\nRanking based on Cosine Similarity:\")\n",
        "for i, indices in enumerate(sorted_indices):\n",
        "    print(f\"Sentence {i + 1}:\")\n",
        "    for rank, index in enumerate(indices):\n",
        "        print(f\"Rank {rank + 1}: Sentence {index + 1} - Similarity: {cosine_similarities[i][index]}\")"
      ],
      "metadata": {
        "colab": {
          "base_uri": "https://localhost:8080/"
        },
        "id": "I2OzCKHFLrBY",
        "outputId": "641d5530-ce9b-47ac-85b8-3960b7e9aded"
      },
      "execution_count": 11,
      "outputs": [
        {
          "output_type": "stream",
          "name": "stdout",
          "text": [
            "\n",
            "Ranking based on Cosine Similarity:\n",
            "Sentence 1:\n",
            "Rank 1: Sentence 2 - Similarity: 0.24527198569314448\n",
            "Rank 2: Sentence 3 - Similarity: 0.20819899938446804\n",
            "Sentence 2:\n",
            "Rank 1: Sentence 1 - Similarity: 0.24527198569314448\n",
            "Rank 2: Sentence 3 - Similarity: 0.0\n",
            "Sentence 3:\n",
            "Rank 1: Sentence 1 - Similarity: 0.20819899938446804\n",
            "Rank 2: Sentence 2 - Similarity: 0.0\n"
          ]
        }
      ]
    }
  ]
}