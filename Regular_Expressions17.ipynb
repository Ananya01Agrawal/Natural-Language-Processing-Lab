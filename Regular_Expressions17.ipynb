{
  "nbformat": 4,
  "nbformat_minor": 0,
  "metadata": {
    "colab": {
      "provenance": []
    },
    "kernelspec": {
      "name": "python3",
      "display_name": "Python 3"
    },
    "language_info": {
      "name": "python"
    }
  },
  "cells": [
    {
      "cell_type": "code",
      "execution_count": null,
      "metadata": {
        "id": "yLv6fe5KHvjF"
      },
      "outputs": [],
      "source": [
        "import re"
      ]
    },
    {
      "cell_type": "code",
      "source": [
        "# Example text\n",
        "text = \"Hello, my email is example@email.com and my phone number is 123-456-7890.\""
      ],
      "metadata": {
        "id": "31sd7Z8vIOfQ"
      },
      "execution_count": null,
      "outputs": []
    },
    {
      "cell_type": "code",
      "source": [
        "# Define a regular expression pattern to match email addresses\n",
        "email_pattern = r'\\b[A-Za-z0-9._%+-]+@[A-Za-z0-9.-]+\\.[A-Z|a-z]{2,}\\b'"
      ],
      "metadata": {
        "id": "faU0W4HhIUF7"
      },
      "execution_count": null,
      "outputs": []
    },
    {
      "cell_type": "code",
      "source": [
        "# Find all email addresses in the text using the findall() function\n",
        "emails = re.findall(email_pattern, text)"
      ],
      "metadata": {
        "id": "ruUAli44Iktt"
      },
      "execution_count": null,
      "outputs": []
    },
    {
      "cell_type": "code",
      "source": [],
      "metadata": {
        "id": "7_PU-KzkNj8q"
      },
      "execution_count": null,
      "outputs": []
    },
    {
      "cell_type": "code",
      "source": [
        "                                                                                                                                                                                                                                                                                                                                                                                                                                                                                                                                                                                                                                                                                                                                                                                                                                                                                                                                                                                                  # Define a regular expression pattern to match phone numbers\n",
        "phone_pattern = r'\\b\\d{3}-\\d{3}-\\d{4}\\b'"
      ],
      "metadata": {
        "id": "iL1W99z8Ip0e"
      },
      "execution_count": null,
      "outputs": []
    },
    {
      "cell_type": "code",
      "source": [
        "# Find all phone numbers in the text using the findall() function\n",
        "phone_numbers = re.findall(phone_pattern, text)"
      ],
      "metadata": {
        "id": "9Z2jYLEJI77k"
      },
      "execution_count": null,
      "outputs": []
    },
    {
      "cell_type": "code",
      "source": [
        "# Print the found phone numbers\n",
        "print(\"Phone numbers:\", phone_numbers)"
      ],
      "metadata": {
        "colab": {
          "base_uri": "https://localhost:8080/"
        },
        "id": "H7ysWGghI_Jj",
        "outputId": "b9c5e9e2-945e-4fd1-dd25-be37bef820fa"
      },
      "execution_count": null,
      "outputs": [
        {
          "output_type": "stream",
          "name": "stdout",
          "text": [
            "Phone numbers: ['123-456-7890']\n"
          ]
        }
      ]
    }
  ]
}