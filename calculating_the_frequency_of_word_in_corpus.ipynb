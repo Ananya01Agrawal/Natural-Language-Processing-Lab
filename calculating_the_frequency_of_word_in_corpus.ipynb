{
  "nbformat": 4,
  "nbformat_minor": 0,
  "metadata": {
    "colab": {
      "provenance": []
    },
    "kernelspec": {
      "name": "python3",
      "display_name": "Python 3"
    },
    "language_info": {
      "name": "python"
    }
  },
  "cells": [
    {
      "cell_type": "code",
      "execution_count": 1,
      "metadata": {
        "id": "sk48amROGOEg"
      },
      "outputs": [],
      "source": [
        "import nltk\n",
        "from nltk.corpus import gutenberg"
      ]
    },
    {
      "cell_type": "code",
      "source": [
        "# Load the Gutenberg corpus\n",
        "nltk.download('gutenberg')\n",
        "gutenberg_corpus = gutenberg.words()"
      ],
      "metadata": {
        "colab": {
          "base_uri": "https://localhost:8080/"
        },
        "id": "iaQzxLpAGWGN",
        "outputId": "4c694c71-5051-4a1f-9a3f-941fedff24e8"
      },
      "execution_count": 2,
      "outputs": [
        {
          "output_type": "stream",
          "name": "stderr",
          "text": [
            "[nltk_data] Downloading package gutenberg to /root/nltk_data...\n",
            "[nltk_data]   Unzipping corpora/gutenberg.zip.\n"
          ]
        }
      ]
    },
    {
      "cell_type": "code",
      "source": [
        "# Define the keyword\n",
        "keyword = \"love\""
      ],
      "metadata": {
        "id": "p-taNDLKGasA"
      },
      "execution_count": 3,
      "outputs": []
    },
    {
      "cell_type": "code",
      "source": [
        "# Calculate the frequency of the keyword\n",
        "keyword_frequency = gutenberg_corpus.count(keyword)"
      ],
      "metadata": {
        "id": "dC-VZclCGekT"
      },
      "execution_count": 4,
      "outputs": []
    },
    {
      "cell_type": "code",
      "source": [
        "print(keyword_frequency)"
      ],
      "metadata": {
        "colab": {
          "base_uri": "https://localhost:8080/"
        },
        "id": "mi-obzKVGkXP",
        "outputId": "bd9881bb-2782-41ae-8772-b4930f199e4d"
      },
      "execution_count": 5,
      "outputs": [
        {
          "output_type": "stream",
          "name": "stdout",
          "text": [
            "1063\n"
          ]
        }
      ]
    }
  ]
}