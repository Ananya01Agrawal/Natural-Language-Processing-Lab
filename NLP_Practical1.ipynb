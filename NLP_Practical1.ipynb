{
  "nbformat": 4,
  "nbformat_minor": 0,
  "metadata": {
    "colab": {
      "provenance": [],
      "gpuType": "T4"
    },
    "kernelspec": {
      "name": "python3",
      "display_name": "Python 3"
    },
    "language_info": {
      "name": "python"
    }
  },
  "cells": [
    {
      "cell_type": "code",
      "execution_count": 3,
      "metadata": {
        "id": "XkW4E4gJWE4n"
      },
      "outputs": [],
      "source": [
        "# Text pre-processing\n",
        "# Tokenization-break it into different tokens\n",
        "# Stemming-removing suffix and prefixes from tokens\n",
        "# Lemmatization-give dictionry words\n",
        "# POS Taging- POS tagging is the process of labeling words in a text with their corresponding parts of speech (e.g., noun, verb, adjective).\n",
        "# This helps algorithms understand the grammatical structure and meaning of a text and is an important step in natural language processing (NLP).\n",
        "# Stop words- the words that are not having relevance int the sentence\n",
        "\n",
        "\n"
      ]
    },
    {
      "cell_type": "code",
      "source": [
        "import nltk\n",
        "nltk.download('punkt')"
      ],
      "metadata": {
        "colab": {
          "base_uri": "https://localhost:8080/"
        },
        "id": "2OyB4pLwadkg",
        "outputId": "82624641-6e95-42c3-a3b5-caac2d630df6"
      },
      "execution_count": 4,
      "outputs": [
        {
          "output_type": "stream",
          "name": "stderr",
          "text": [
            "[nltk_data] Downloading package punkt to /root/nltk_data...\n",
            "[nltk_data]   Unzipping tokenizers/punkt.zip.\n"
          ]
        },
        {
          "output_type": "execute_result",
          "data": {
            "text/plain": [
              "True"
            ]
          },
          "metadata": {},
          "execution_count": 4
        }
      ]
    },
    {
      "cell_type": "code",
      "source": [
        "#Tokenization\n",
        "\n",
        "sent1=\"NLP is very interetsing subject\"\n",
        "sent2=\"NLP is very interesting subject , It is for btech students\""
      ],
      "metadata": {
        "id": "9GHUrUMCa2P8"
      },
      "execution_count": 5,
      "outputs": []
    },
    {
      "cell_type": "code",
      "source": [
        "from nltk.tokenize import word_tokenize # it tokenize the word\n",
        "from nltk.tokenize import sent_tokenize # it tokenize the sentence"
      ],
      "metadata": {
        "id": "LiHNnGVmbKaM"
      },
      "execution_count": 6,
      "outputs": []
    },
    {
      "cell_type": "code",
      "source": [
        "token1=word_tokenize(sent1)\n",
        "print(token1)\n",
        "token2=sent_tokenize(sent2)\n",
        "print(token2)"
      ],
      "metadata": {
        "colab": {
          "base_uri": "https://localhost:8080/"
        },
        "id": "glOZkHFgbSJh",
        "outputId": "37cd282d-4825-4eee-98c7-92da72acf62c"
      },
      "execution_count": 7,
      "outputs": [
        {
          "output_type": "stream",
          "name": "stdout",
          "text": [
            "['NLP', 'is', 'very', 'interetsing', 'subject']\n",
            "['NLP is very interesting subject , It is for btech students']\n"
          ]
        }
      ]
    },
    {
      "cell_type": "code",
      "source": [
        "# take 3 sentences\n",
        "sent1=\"Tokenization-break it into different tokens\"\n",
        "sent2=\"Stemming-removing suffix and prefixes from tokens\"\n",
        "sent3=\"Lemmatization-give dictionry words\""
      ],
      "metadata": {
        "id": "e8kP55aub2U_"
      },
      "execution_count": 8,
      "outputs": []
    },
    {
      "cell_type": "code",
      "source": [
        "token3=sent_tokenize(sent1)\n",
        "print(token3)"
      ],
      "metadata": {
        "colab": {
          "base_uri": "https://localhost:8080/"
        },
        "id": "No5pIDqLdgiX",
        "outputId": "c5216416-7a92-4558-b1bc-1b382719fc51"
      },
      "execution_count": 9,
      "outputs": [
        {
          "output_type": "stream",
          "name": "stdout",
          "text": [
            "['Tokenization-break it into different tokens']\n"
          ]
        }
      ]
    },
    {
      "cell_type": "code",
      "source": [
        "for i in token3:\n",
        "  token3=word_tokenize(i)\n",
        "  print(token3)"
      ],
      "metadata": {
        "colab": {
          "base_uri": "https://localhost:8080/"
        },
        "id": "OhP39AL1eNVT",
        "outputId": "3616a320-dbeb-4aab-e434-51d02c7fec06"
      },
      "execution_count": 10,
      "outputs": [
        {
          "output_type": "stream",
          "name": "stdout",
          "text": [
            "['Tokenization-break', 'it', 'into', 'different', 'tokens']\n"
          ]
        }
      ]
    },
    {
      "cell_type": "code",
      "source": [
        "# There are three tyoes of stemmer available\n",
        "#suffix and prefix are better removed by stemmer while forms are better removed by lemitization\n",
        "from nltk.stem import PorterStemmer,LancasterStemmer,SnowballStemmer"
      ],
      "metadata": {
        "id": "7iRE3Qg2eqi9"
      },
      "execution_count": 11,
      "outputs": []
    },
    {
      "cell_type": "code",
      "source": [
        "ps=PorterStemmer()\n",
        "for i in token3:\n",
        "  print(ps.stem(i))"
      ],
      "metadata": {
        "colab": {
          "base_uri": "https://localhost:8080/"
        },
        "id": "VhTN9VA3fPvF",
        "outputId": "b03c45ec-294b-47bc-f121-09222e5e1634"
      },
      "execution_count": 12,
      "outputs": [
        {
          "output_type": "stream",
          "name": "stdout",
          "text": [
            "tokenization-break\n",
            "it\n",
            "into\n",
            "differ\n",
            "token\n"
          ]
        }
      ]
    },
    {
      "cell_type": "code",
      "source": [
        "ps=LancasterStemmer()\n",
        "for i in token3:\n",
        "  print(ps.stem(i))"
      ],
      "metadata": {
        "colab": {
          "base_uri": "https://localhost:8080/"
        },
        "id": "qjdGTHf1fyXU",
        "outputId": "83418146-fee8-4f42-f343-1de3f4932a5b"
      },
      "execution_count": 13,
      "outputs": [
        {
          "output_type": "stream",
          "name": "stdout",
          "text": [
            "tokenization-break\n",
            "it\n",
            "into\n",
            "diff\n",
            "tok\n"
          ]
        }
      ]
    },
    {
      "cell_type": "code",
      "source": [
        "ps=SnowballStemmer(language='english')\n",
        "for i in token3:\n",
        "  print(ps.stem(i))"
      ],
      "metadata": {
        "colab": {
          "base_uri": "https://localhost:8080/"
        },
        "id": "o9L9pQqmf8IN",
        "outputId": "0d20ce92-d383-415b-871a-da3c281c59a0"
      },
      "execution_count": 14,
      "outputs": [
        {
          "output_type": "stream",
          "name": "stdout",
          "text": [
            "tokenization-break\n",
            "it\n",
            "into\n",
            "differ\n",
            "token\n"
          ]
        }
      ]
    },
    {
      "cell_type": "code",
      "source": [
        "from nltk.stem import WordNetLemmatizer #Libraray to import the lemmitizer\n",
        "nltk.download('wordnet')"
      ],
      "metadata": {
        "colab": {
          "base_uri": "https://localhost:8080/"
        },
        "id": "-rFDPqL0glR2",
        "outputId": "58057835-aa9f-4899-f66b-dcc1dd812171"
      },
      "execution_count": 15,
      "outputs": [
        {
          "output_type": "stream",
          "name": "stderr",
          "text": [
            "[nltk_data] Downloading package wordnet to /root/nltk_data...\n"
          ]
        },
        {
          "output_type": "execute_result",
          "data": {
            "text/plain": [
              "True"
            ]
          },
          "metadata": {},
          "execution_count": 15
        }
      ]
    },
    {
      "cell_type": "code",
      "source": [
        "lemma1=WordNetLemmatizer()\n",
        "for i in token1:\n",
        "  print(lemma1.lemmatize(i))"
      ],
      "metadata": {
        "colab": {
          "base_uri": "https://localhost:8080/"
        },
        "id": "GQXQr4X0g4Mg",
        "outputId": "8a9dcf35-d90b-4044-cfef-4255a87498d7"
      },
      "execution_count": 16,
      "outputs": [
        {
          "output_type": "stream",
          "name": "stdout",
          "text": [
            "NLP\n",
            "is\n",
            "very\n",
            "interetsing\n",
            "subject\n"
          ]
        }
      ]
    },
    {
      "cell_type": "code",
      "source": [
        "nltk.download('averaged_perceptron_tagger')"
      ],
      "metadata": {
        "colab": {
          "base_uri": "https://localhost:8080/"
        },
        "id": "_dzb9g7vjnMq",
        "outputId": "3fa794d1-e725-419a-ae7b-287674acd0a9"
      },
      "execution_count": 17,
      "outputs": [
        {
          "output_type": "stream",
          "name": "stderr",
          "text": [
            "[nltk_data] Downloading package averaged_perceptron_tagger to\n",
            "[nltk_data]     /root/nltk_data...\n",
            "[nltk_data]   Unzipping taggers/averaged_perceptron_tagger.zip.\n"
          ]
        },
        {
          "output_type": "execute_result",
          "data": {
            "text/plain": [
              "True"
            ]
          },
          "metadata": {},
          "execution_count": 17
        }
      ]
    },
    {
      "cell_type": "code",
      "source": [
        "nltk.pos_tag(token1) # these symbols are coming from tree bank"
      ],
      "metadata": {
        "colab": {
          "base_uri": "https://localhost:8080/"
        },
        "id": "LWPnUojhjcNq",
        "outputId": "87734f7e-ef9b-42be-b661-c08ee1335102"
      },
      "execution_count": 18,
      "outputs": [
        {
          "output_type": "execute_result",
          "data": {
            "text/plain": [
              "[('NLP', 'NNP'),\n",
              " ('is', 'VBZ'),\n",
              " ('very', 'RB'),\n",
              " ('interetsing', 'JJ'),\n",
              " ('subject', 'NN')]"
            ]
          },
          "metadata": {},
          "execution_count": 18
        }
      ]
    },
    {
      "cell_type": "code",
      "source": [
        "nltk.pos_tag(token2)"
      ],
      "metadata": {
        "colab": {
          "base_uri": "https://localhost:8080/"
        },
        "id": "iFXCONVvl3AW",
        "outputId": "50d8553e-f287-4281-af43-6a4470c4dffd"
      },
      "execution_count": 19,
      "outputs": [
        {
          "output_type": "execute_result",
          "data": {
            "text/plain": [
              "[('NLP is very interesting subject , It is for btech students', 'NNS')]"
            ]
          },
          "metadata": {},
          "execution_count": 19
        }
      ]
    },
    {
      "cell_type": "code",
      "source": [
        "nltk.pos_tag(token3)"
      ],
      "metadata": {
        "colab": {
          "base_uri": "https://localhost:8080/"
        },
        "id": "IXZ0Y7mEmC3Z",
        "outputId": "66b3f8a8-947b-4157-ad41-e678e39cceea"
      },
      "execution_count": 20,
      "outputs": [
        {
          "output_type": "execute_result",
          "data": {
            "text/plain": [
              "[('Tokenization-break', 'JJ'),\n",
              " ('it', 'PRP'),\n",
              " ('into', 'IN'),\n",
              " ('different', 'JJ'),\n",
              " ('tokens', 'NNS')]"
            ]
          },
          "metadata": {},
          "execution_count": 20
        }
      ]
    },
    {
      "cell_type": "code",
      "source": [
        "from nltk.corpus import stopwords\n",
        "nltk.download('stopwords')"
      ],
      "metadata": {
        "colab": {
          "base_uri": "https://localhost:8080/"
        },
        "id": "izNoGqtAnmLO",
        "outputId": "b830c4c2-a8dc-4150-d944-f526bad89a1d"
      },
      "execution_count": 24,
      "outputs": [
        {
          "output_type": "stream",
          "name": "stderr",
          "text": [
            "[nltk_data] Downloading package stopwords to /root/nltk_data...\n",
            "[nltk_data]   Unzipping corpora/stopwords.zip.\n"
          ]
        },
        {
          "output_type": "execute_result",
          "data": {
            "text/plain": [
              "True"
            ]
          },
          "metadata": {},
          "execution_count": 24
        }
      ]
    },
    {
      "cell_type": "code",
      "source": [
        "list1=stopwords.words('english')\n",
        "print(list1)"
      ],
      "metadata": {
        "colab": {
          "base_uri": "https://localhost:8080/"
        },
        "id": "wZMes4zWnrjf",
        "outputId": "16e4b70a-a4ef-4af1-c317-5daa56bbbe29"
      },
      "execution_count": 26,
      "outputs": [
        {
          "output_type": "stream",
          "name": "stdout",
          "text": [
            "['i', 'me', 'my', 'myself', 'we', 'our', 'ours', 'ourselves', 'you', \"you're\", \"you've\", \"you'll\", \"you'd\", 'your', 'yours', 'yourself', 'yourselves', 'he', 'him', 'his', 'himself', 'she', \"she's\", 'her', 'hers', 'herself', 'it', \"it's\", 'its', 'itself', 'they', 'them', 'their', 'theirs', 'themselves', 'what', 'which', 'who', 'whom', 'this', 'that', \"that'll\", 'these', 'those', 'am', 'is', 'are', 'was', 'were', 'be', 'been', 'being', 'have', 'has', 'had', 'having', 'do', 'does', 'did', 'doing', 'a', 'an', 'the', 'and', 'but', 'if', 'or', 'because', 'as', 'until', 'while', 'of', 'at', 'by', 'for', 'with', 'about', 'against', 'between', 'into', 'through', 'during', 'before', 'after', 'above', 'below', 'to', 'from', 'up', 'down', 'in', 'out', 'on', 'off', 'over', 'under', 'again', 'further', 'then', 'once', 'here', 'there', 'when', 'where', 'why', 'how', 'all', 'any', 'both', 'each', 'few', 'more', 'most', 'other', 'some', 'such', 'no', 'nor', 'not', 'only', 'own', 'same', 'so', 'than', 'too', 'very', 's', 't', 'can', 'will', 'just', 'don', \"don't\", 'should', \"should've\", 'now', 'd', 'll', 'm', 'o', 're', 've', 'y', 'ain', 'aren', \"aren't\", 'couldn', \"couldn't\", 'didn', \"didn't\", 'doesn', \"doesn't\", 'hadn', \"hadn't\", 'hasn', \"hasn't\", 'haven', \"haven't\", 'isn', \"isn't\", 'ma', 'mightn', \"mightn't\", 'mustn', \"mustn't\", 'needn', \"needn't\", 'shan', \"shan't\", 'shouldn', \"shouldn't\", 'wasn', \"wasn't\", 'weren', \"weren't\", 'won', \"won't\", 'wouldn', \"wouldn't\"]\n"
          ]
        }
      ]
    },
    {
      "cell_type": "code",
      "source": [
        "print(token1)"
      ],
      "metadata": {
        "colab": {
          "base_uri": "https://localhost:8080/"
        },
        "id": "Fk1NRASIoJra",
        "outputId": "4c1df073-9eea-4171-9a65-b6a8b490fe3f"
      },
      "execution_count": 27,
      "outputs": [
        {
          "output_type": "stream",
          "name": "stdout",
          "text": [
            "['NLP', 'is', 'very', 'interetsing', 'subject']\n"
          ]
        }
      ]
    },
    {
      "cell_type": "code",
      "source": [
        "# removing the stopwords from the token1\n",
        "filtered_tokens = [token for token in token1 if token not in stopwords]"
      ],
      "metadata": {
        "id": "zp95GlUvokTN"
      },
      "execution_count": 31,
      "outputs": []
    },
    {
      "cell_type": "code",
      "source": [
        "print(filtered_tokens)"
      ],
      "metadata": {
        "colab": {
          "base_uri": "https://localhost:8080/"
        },
        "id": "kpvRsmxsopNI",
        "outputId": "5fc79a6d-62c2-46cd-d91b-59ccaf210548"
      },
      "execution_count": 32,
      "outputs": [
        {
          "output_type": "stream",
          "name": "stdout",
          "text": [
            "['NLP', 'interetsing', 'subject']\n"
          ]
        }
      ]
    }
  ]
}